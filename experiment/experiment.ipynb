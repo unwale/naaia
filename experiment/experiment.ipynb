{
 "cells": [
  {
   "cell_type": "code",
   "execution_count": 1,
   "id": "1c73b483-329e-454f-bd09-6c41109b769c",
   "metadata": {},
   "outputs": [],
   "source": [
    "import sys\n",
    "import os\n",
    "\n",
    "parent_dir = os.path.abspath(os.path.join(os.getcwd(), os.pardir))\n",
    "sys.path.append(parent_dir)"
   ]
  },
  {
   "cell_type": "code",
   "execution_count": 2,
   "id": "07cd93d8-9250-4171-be73-4dd1a42ef2b1",
   "metadata": {},
   "outputs": [
    {
     "name": "stdout",
     "output_type": "stream",
     "text": [
      "/opt/conda/lib/python3.11/site-packages\n"
     ]
    }
   ],
   "source": [
    "import json\n",
    "import joblib\n",
    "import spacy\n",
    "import numpy as np\n",
    "import pandas as pd\n",
    "from sklearn.metrics import ndcg_score\n",
    "from sklearn.metrics.pairwise import cosine_similarity\n",
    "from sentence_transformers import SentenceTransformer\n",
    "from rank_bm25 import BM25Okapi\n",
    "\n",
    "from scripts.processing.keywords import get_keywords_rake, get_keywords_textrank\n",
    "from model.inference.bert import BertTextClassifier\n",
    "from scripts.processing.temporal_score import compute_temporal_scores\n",
    "from scripts import topics"
   ]
  },
  {
   "cell_type": "code",
   "execution_count": null,
   "id": "07f73c39-0b16-47f2-9d2b-5d615cc204f4",
   "metadata": {},
   "outputs": [],
   "source": [
    "docs = json.load(open('../data/experiment/documents.json', 'r'))\n",
    "queries = json.load(open('../data/experiment/queries.json', 'r'))\n",
    "rankings = json.load(open('../data/experiment/rankings.json'))\n",
    "rankings = [[ranking[doc[\"url\"]] / 10 for doc in docs] for ranking in rankings]"
   ]
  },
  {
   "cell_type": "code",
   "execution_count": 4,
   "id": "b0895be6-8d90-4f52-b215-3d19247a923c",
   "metadata": {},
   "outputs": [],
   "source": [
    "feature_sets = [\n",
    "    ('bm25', 'embedding_similarity'),\n",
    "    ('bm25', 'embedding_similarity', 'topic'),\n",
    "    ('bm25', 'embedding_similarity', 'temporal_intent'),\n",
    "    ('bm25', 'embedding_similarity', 'keywords_rake'),\n",
    "    ('bm25', 'embedding_similarity', 'keywords_textrank'),\n",
    "    ('bm25', 'embedding_similarity', 'temporal_intent', 'keywords_rake', 'topic'),\n",
    "    ('bm25', 'embedding_similarity', 'temporal_intent', 'keywords_textrank', 'topic')\n",
    "]"
   ]
  },
  {
   "cell_type": "code",
   "execution_count": 5,
   "id": "2b8aabb4-16d6-40a5-8142-fff5d4bacbec",
   "metadata": {},
   "outputs": [
    {
     "name": "stderr",
     "output_type": "stream",
     "text": [
      "/home/model/inference/bert.py:22: FutureWarning: You are using `torch.load` with `weights_only=False` (the current default value), which uses the default pickle module implicitly. It is possible to construct malicious pickle data which will execute arbitrary code during unpickling (See https://github.com/pytorch/pytorch/blob/main/SECURITY.md#untrusted-models for more details). In a future release, the default value for `weights_only` will be flipped to `True`. This limits the functions that could be executed during unpickling. Arbitrary objects will no longer be allowed to be loaded via this mode unless they are explicitly allowlisted by the user via `torch.serialization.add_safe_globals`. We recommend you start setting `weights_only=True` for any use case where you don't have full control of the loaded file. Please open an issue on GitHub for any issues related to this experimental feature.\n",
      "  self.model.load_state_dict(torch.load(model_path))\n"
     ]
    }
   ],
   "source": [
    "nlp = spacy.load(\"ru_core_news_sm\")\n",
    "bm25 = BM25Okapi([[token.lemma_ for token in nlp(doc[\"text\"])] for doc in docs])\n",
    "embedding_model = SentenceTransformer('cointegrated/rubert-tiny2')\n",
    "temporal_model = joblib.load('../model/saved/time_precision_model.joblib')\n",
    "topic_classification_model = BertTextClassifier(\n",
    "    model_path='../model/saved/ruBert-large-mlp.pth', \n",
    "    base_model_name='ai-forever/ruBert-large', \n",
    "    tokenizer_path='ai-forever/ruBert-large'\n",
    ")"
   ]
  },
  {
   "cell_type": "code",
   "execution_count": 6,
   "id": "b987f9ba-b255-42c7-8868-4606539284ad",
   "metadata": {},
   "outputs": [],
   "source": [
    "def jaccard_similarity(query_keyword_list, text_keyword_list):\n",
    "    intersection = len(set(query_keyword_list) & set(text_keyword_list))\n",
    "    union = len(set(query_keyword_list) | set(text_keyword_list))\n",
    "    if union == 0:\n",
    "        return 0\n",
    "    return intersection / union\n",
    "\n",
    "def dice_similarity(query_keyword_list, text_keyword_list):\n",
    "    intersection = len(set(query_keyword_list) & set(text_keyword_list))\n",
    "    union = len(set(query_keyword_list) | set(text_keyword_list))\n",
    "    if union == 0:\n",
    "        return 0\n",
    "    return 2 * intersection / (len(query_keyword_list) + len(text_keyword_list))"
   ]
  },
  {
   "cell_type": "code",
   "execution_count": 7,
   "id": "5e3f4047-214e-47b0-9132-11b76241cbcd",
   "metadata": {},
   "outputs": [
    {
     "name": "stderr",
     "output_type": "stream",
     "text": [
      "Predicting topics: 4it [00:00,  4.27it/s]                       \n",
      "Predicting topics: 1it [00:00, 111.39it/s]\n"
     ]
    }
   ],
   "source": [
    "doc_topics = topic_classification_model.predict([doc[\"text\"] for doc in docs], topics)\n",
    "doc_embeddings = embedding_model.encode([doc[\"text\"] for doc in docs])\n",
    "doc_keywords_rake = [get_keywords_rake(doc[\"text\"]) for doc in docs]\n",
    "doc_keywords_textrank = [get_keywords_textrank(doc[\"text\"]) for doc in docs]\n",
    "for i, doc in enumerate(docs):\n",
    "    docs[i][\"topic\"] = doc_topics[i]\n",
    "    docs[i][\"embedding\"] = doc_embeddings[i]\n",
    "    docs[i][\"kw_rake\"] = doc_keywords_rake[i]\n",
    "    docs[i][\"kw_textrank\"] = doc_keywords_textrank[i]\n",
    "\n",
    "query_topics = topic_classification_model.predict([query[\"text\"] for query in queries], topics)\n",
    "query_embeddings = embedding_model.encode([query[\"text\"] for query in queries])\n",
    "query_keywords_rake = [get_keywords_rake(query[\"text\"]) for query in queries]\n",
    "query_keywords_textrank = [get_keywords_textrank(query[\"text\"]) for query in queries]\n",
    "for i, query in enumerate(queries):\n",
    "    queries[i][\"topic\"] = query_topics[i]\n",
    "    queries[i][\"embedding\"] = query_embeddings[i]\n",
    "    queries[i][\"kw_rake\"] = query_keywords_rake[i]\n",
    "    queries[i][\"kw_textrank\"] = query_keywords_textrank[i]"
   ]
  },
  {
   "cell_type": "code",
   "execution_count": null,
   "id": "cb57a2fc-9fa7-4013-9b39-26e185e76491",
   "metadata": {},
   "outputs": [
    {
     "name": "stdout",
     "output_type": "stream",
     "text": [
      "NDCG for features ('bm25', 'embedding_similarity'): 0.758\n",
      "NDCG for features ('bm25', 'embedding_similarity', 'topic'): 0.528\n",
      "NDCG for features ('bm25', 'embedding_similarity', 'temporal_intent'): 0.758\n",
      "NDCG for features ('bm25', 'embedding_similarity', 'keywords_rake'): 0.759\n",
      "NDCG for features ('bm25', 'embedding_similarity', 'keywords_textrank'): 0.758\n",
      "NDCG for features ('bm25', 'embedding_similarity', 'temporal_intent', 'keywords_rake', 'topic'): 0.528\n",
      "NDCG for features ('bm25', 'embedding_similarity', 'temporal_intent', 'keywords_textrank', 'topic'): 0.528\n"
     ]
    }
   ],
   "source": [
    "for feature_set in feature_sets:\n",
    "    n_features = len(feature_set)\n",
    "    if \"topic\" in feature_set:\n",
    "            n_features -= 1\n",
    "    total_ndcg = 0\n",
    "    for j, query in enumerate(queries):\n",
    "        relevant_docs = docs\n",
    "        lemmatized_query = [token.lemma_ for token in nlp(query[\"text\"])]\n",
    "        bm_scores = bm25.get_scores(lemmatized_query)\n",
    "        if \"temporal_intent\" in feature_set:\n",
    "            temporal_scores = compute_temporal_scores([doc[\"date\"] for doc in docs], query[\"text\"], temporal_model)\n",
    "        for i, doc in enumerate(relevant_docs):\n",
    "            relevant_docs[i][\"score\"] = 0\n",
    "            if \"topic\" in feature_set and relevant_docs[i][\"topic\"] != query[\"topic\"]: \n",
    "                continue\n",
    "                \n",
    "            if \"bm25\" in feature_set:\n",
    "                relevant_docs[i][\"score\"] += bm_scores[i]\n",
    "            if \"embedding_similarity\" in feature_set:\n",
    "                relevant_docs[i][\"score\"] += 0.5 + 0.5 * np.dot(doc[\"embedding\"], query[\"embedding\"]) / \\\n",
    "                                            (np.linalg.norm(doc[\"embedding\"]) * np.linalg.norm(query[\"embedding\"]))\n",
    "            if \"temporal_intent\" in feature_set:\n",
    "                relevant_docs[i][\"score\"] += temporal_scores[i]\n",
    "            if \"keywords_rake\" in feature_set:\n",
    "                relevant_docs[i][\"score\"] += jaccard_similarity([word[0] for word in query[\"kw_rake\"]], [word[0] for word in doc[\"kw_rake\"]])\n",
    "            if \"keywords_textrank\" in feature_set:\n",
    "                relevant_docs[i][\"score\"] += jaccard_similarity([word[0] for word in query[\"kw_textrank\"]], [word[0] for word in doc[\"kw_textrank\"]])\n",
    "            relevant_docs[i][\"score\"] /= n_features\n",
    "        total_ndcg += ndcg_score([rankings[j]], [[doc[\"score\"] for doc in relevant_docs]])\n",
    "    print(f\"NDCG for features {feature_set}: {total_ndcg / len(queries):.3f}\")\n",
    "        "
   ]
  }
 ],
 "metadata": {
  "kernelspec": {
   "display_name": "Python 3 (ipykernel)",
   "language": "python",
   "name": "python3"
  },
  "language_info": {
   "codemirror_mode": {
    "name": "ipython",
    "version": 3
   },
   "file_extension": ".py",
   "mimetype": "text/x-python",
   "name": "python",
   "nbconvert_exporter": "python",
   "pygments_lexer": "ipython3",
   "version": "3.11.9"
  }
 },
 "nbformat": 4,
 "nbformat_minor": 5
}
